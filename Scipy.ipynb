{
 "cells": [
  {
   "cell_type": "code",
   "execution_count": 1,
   "metadata": {},
   "outputs": [],
   "source": [
    "from scipy.stats import norm\n",
    "import numpy as np\n",
    "import matplotlib.pyplot as plt"
   ]
  },
  {
   "cell_type": "code",
   "execution_count": 2,
   "metadata": {},
   "outputs": [
    {
     "data": {
      "text/plain": [
       "0.3989422804014327"
      ]
     },
     "execution_count": 2,
     "metadata": {},
     "output_type": "execute_result"
    }
   ],
   "source": [
    "norm.pdf(0)"
   ]
  },
  {
   "cell_type": "code",
   "execution_count": 3,
   "metadata": {},
   "outputs": [
    {
     "data": {
      "text/plain": [
       "0.03520653267642995"
      ]
     },
     "execution_count": 3,
     "metadata": {},
     "output_type": "execute_result"
    }
   ],
   "source": [
    "norm.pdf(0,loc=5,scale=10)"
   ]
  },
  {
   "cell_type": "code",
   "execution_count": 4,
   "metadata": {},
   "outputs": [
    {
     "data": {
      "text/plain": [
       "array([0.3299293 , 0.35723765, 0.39814636, 0.36346797, 0.36351061,\n",
       "       0.03973337, 0.39801362, 0.39211433, 0.21470278, 0.27588458])"
      ]
     },
     "execution_count": 4,
     "metadata": {},
     "output_type": "execute_result"
    }
   ],
   "source": [
    "r=np.random.randn(10)\n",
    "norm.pdf(r)"
   ]
  },
  {
   "cell_type": "code",
   "execution_count": 5,
   "metadata": {},
   "outputs": [
    {
     "data": {
      "text/plain": [
       "array([-1.1088769 , -1.02935404, -0.92093559, -1.01206409, -1.0119468 ,\n",
       "       -3.2255639 , -0.92126906, -0.93620183, -1.53850062, -1.28777269])"
      ]
     },
     "execution_count": 5,
     "metadata": {},
     "output_type": "execute_result"
    }
   ],
   "source": [
    "norm.logpdf(r)"
   ]
  },
  {
   "cell_type": "code",
   "execution_count": 6,
   "metadata": {},
   "outputs": [
    {
     "data": {
      "text/plain": [
       "array([0.73116539, 0.68079627, 0.52519599, 0.33302763, 0.33312646,\n",
       "       0.98413708, 0.52721539, 0.57370442, 0.86718004, 0.80479559])"
      ]
     },
     "execution_count": 6,
     "metadata": {},
     "output_type": "execute_result"
    }
   ],
   "source": [
    "norm.cdf(r)"
   ]
  },
  {
   "cell_type": "code",
   "execution_count": 7,
   "metadata": {},
   "outputs": [
    {
     "data": {
      "text/plain": [
       "array([-0.31311559, -0.38449218, -0.64398377, -1.09952981, -1.09923311,\n",
       "       -0.01599008, -0.6401461 , -0.55564097, -0.14250866, -0.21716696])"
      ]
     },
     "execution_count": 7,
     "metadata": {},
     "output_type": "execute_result"
    }
   ],
   "source": [
    "norm.logcdf(r)"
   ]
  },
  {
   "cell_type": "code",
   "execution_count": 8,
   "metadata": {},
   "outputs": [
    {
     "data": {
      "text/plain": [
       "(array([  1.,   0.,   0.,   0.,   1.,   0.,   0.,   1.,   3.,   2.,   1.,\n",
       "          6.,   5.,   2.,   4.,   7.,   4.,  10.,  14.,  13.,  17.,  17.,\n",
       "         35.,  33.,  34.,  40.,  48.,  47.,  54.,  65.,  76., 112.,  94.,\n",
       "        116., 131., 148., 149., 168., 170., 188., 204., 228., 262., 224.,\n",
       "        259., 277., 270., 276., 308., 281., 302., 305., 293., 315., 268.,\n",
       "        315., 269., 291., 257., 275., 261., 218., 211., 221., 197., 166.,\n",
       "        161., 154., 114., 138., 122.,  98.,  90.,  86.,  70.,  65.,  47.,\n",
       "         37.,  51.,  30.,  27.,  17.,  18.,  22.,  17.,  15.,   5.,  15.,\n",
       "          6.,   4.,   6.,   2.,   4.,   1.,   4.,   2.,   2.,   0.,   0.,\n",
       "          1.]),\n",
       " array([-3.9144069 , -3.83902057, -3.76363423, -3.6882479 , -3.61286156,\n",
       "        -3.53747523, -3.4620889 , -3.38670256, -3.31131623, -3.23592989,\n",
       "        -3.16054356, -3.08515722, -3.00977089, -2.93438455, -2.85899822,\n",
       "        -2.78361188, -2.70822555, -2.63283922, -2.55745288, -2.48206655,\n",
       "        -2.40668021, -2.33129388, -2.25590754, -2.18052121, -2.10513487,\n",
       "        -2.02974854, -1.9543622 , -1.87897587, -1.80358954, -1.7282032 ,\n",
       "        -1.65281687, -1.57743053, -1.5020442 , -1.42665786, -1.35127153,\n",
       "        -1.27588519, -1.20049886, -1.12511252, -1.04972619, -0.97433985,\n",
       "        -0.89895352, -0.82356719, -0.74818085, -0.67279452, -0.59740818,\n",
       "        -0.52202185, -0.44663551, -0.37124918, -0.29586284, -0.22047651,\n",
       "        -0.14509017, -0.06970384,  0.00568249,  0.08106883,  0.15645516,\n",
       "         0.2318415 ,  0.30722783,  0.38261417,  0.4580005 ,  0.53338684,\n",
       "         0.60877317,  0.68415951,  0.75954584,  0.83493217,  0.91031851,\n",
       "         0.98570484,  1.06109118,  1.13647751,  1.21186385,  1.28725018,\n",
       "         1.36263652,  1.43802285,  1.51340919,  1.58879552,  1.66418185,\n",
       "         1.73956819,  1.81495452,  1.89034086,  1.96572719,  2.04111353,\n",
       "         2.11649986,  2.1918862 ,  2.26727253,  2.34265887,  2.4180452 ,\n",
       "         2.49343153,  2.56881787,  2.6442042 ,  2.71959054,  2.79497687,\n",
       "         2.87036321,  2.94574954,  3.02113588,  3.09652221,  3.17190855,\n",
       "         3.24729488,  3.32268121,  3.39806755,  3.47345388,  3.54884022,\n",
       "         3.62422655]),\n",
       " <a list of 100 Patch objects>)"
      ]
     },
     "execution_count": 8,
     "metadata": {},
     "output_type": "execute_result"
    },
    {
     "data": {
      "image/png": "[encoded data removed]",
      "text/plain": [
       "<Figure size 432x288 with 1 Axes>"
      ]
     },
     "metadata": {
      "needs_background": "light"
     },
     "output_type": "display_data"
    }
   ],
   "source": [
    "r=np.random.randn(10000)\n",
    "plt.hist(r, bins=100)"
   ]
  },
  {
   "cell_type": "code",
   "execution_count": 20,
   "metadata": {},
   "outputs": [
    {
     "data": {
      "text/plain": [
       "(array([  1.,   0.,   0.,   0.,   0.,   0.,   0.,   1.,   0.,   2.,   3.,\n",
       "          1.,   0.,   2.,   0.,   3.,   6.,   3.,   4.,   4.,   7.,   9.,\n",
       "         16.,  20.,  13.,  33.,  35.,  31.,  42.,  53.,  64.,  77.,  64.,\n",
       "         80.,  95., 137., 132., 133., 129., 169., 191., 221., 214., 242.,\n",
       "        246., 268., 292., 295., 275., 328., 347., 339., 317., 329., 326.,\n",
       "        321., 272., 305., 277., 284., 294., 236., 261., 233., 219., 184.,\n",
       "        187., 166., 147., 117., 116., 106.,  99.,  90.,  75.,  64.,  51.,\n",
       "         47.,  44.,  41.,  34.,  28.,  19.,  23.,  13.,  11.,   9.,   6.,\n",
       "          3.,   4.,   5.,   2.,   1.,   5.,   0.,   0.,   0.,   1.,   0.,\n",
       "          1.]), array([-38.05818141, -37.25058574, -36.44299006, -35.63539439,\n",
       "        -34.82779871, -34.02020304, -33.21260736, -32.40501169,\n",
       "        -31.59741601, -30.78982034, -29.98222466, -29.17462899,\n",
       "        -28.36703331, -27.55943764, -26.75184196, -25.94424629,\n",
       "        -25.13665061, -24.32905494, -23.52145926, -22.71386359,\n",
       "        -21.90626791, -21.09867224, -20.29107656, -19.48348089,\n",
       "        -18.67588522, -17.86828954, -17.06069387, -16.25309819,\n",
       "        -15.44550252, -14.63790684, -13.83031117, -13.02271549,\n",
       "        -12.21511982, -11.40752414, -10.59992847,  -9.79233279,\n",
       "         -8.98473712,  -8.17714144,  -7.36954577,  -6.56195009,\n",
       "         -5.75435442,  -4.94675874,  -4.13916307,  -3.33156739,\n",
       "         -2.52397172,  -1.71637604,  -0.90878037,  -0.10118469,\n",
       "          0.70641098,   1.51400666,   2.32160233,   3.129198  ,\n",
       "          3.93679368,   4.74438935,   5.55198503,   6.3595807 ,\n",
       "          7.16717638,   7.97477205,   8.78236773,   9.5899634 ,\n",
       "         10.39755908,  11.20515475,  12.01275043,  12.8203461 ,\n",
       "         13.62794178,  14.43553745,  15.24313313,  16.0507288 ,\n",
       "         16.85832448,  17.66592015,  18.47351583,  19.2811115 ,\n",
       "         20.08870718,  20.89630285,  21.70389853,  22.5114942 ,\n",
       "         23.31908987,  24.12668555,  24.93428122,  25.7418769 ,\n",
       "         26.54947257,  27.35706825,  28.16466392,  28.9722596 ,\n",
       "         29.77985527,  30.58745095,  31.39504662,  32.2026423 ,\n",
       "         33.01023797,  33.81783365,  34.62542932,  35.433025  ,\n",
       "         36.24062067,  37.04821635,  37.85581202,  38.6634077 ,\n",
       "         39.47100337,  40.27859905,  41.08619472,  41.8937904 ,\n",
       "         42.70138607]), <a list of 100 Patch objects>)"
      ]
     },
     "execution_count": 20,
     "metadata": {},
     "output_type": "execute_result"
    },
    {
     "data": {
      "image/png": "[encoded data removed]",
      "text/plain": [
       "<Figure size 432x288 with 1 Axes>"
      ]
     },
     "metadata": {
      "needs_background": "light"
     },
     "output_type": "display_data"
    }
   ],
   "source": [
    "r=10*np.random.randn(10000)+5                        #mean=5,sd=10\n",
    "plt.hist(r, bins=100,color='g')"
   ]
  },
  {
   "cell_type": "markdown",
   "metadata": {},
   "source": [
    "# data in circle set"
   ]
  },
  {
   "cell_type": "code",
   "execution_count": 18,
   "metadata": {},
   "outputs": [
    {
     "data": {
      "text/plain": [
       "<matplotlib.collections.PathCollection at 0x241b98a0860>"
      ]
     },
     "execution_count": 18,
     "metadata": {},
     "output_type": "execute_result"
    },
    {
     "data": {
      "image/png": "[encoded data removed]",
      "text/plain": [
       "<Figure size 432x288 with 1 Axes>"
      ]
     },
     "metadata": {
      "needs_background": "light"
     },
     "output_type": "display_data"
    }
   ],
   "source": [
    "cir_dis=np.random.randn(10000,2)\n",
    "plt.scatter(cir_dis[:,0] ,cir_dis[:,1],color='r')"
   ]
  },
  {
   "cell_type": "code",
   "execution_count": 21,
   "metadata": {},
   "outputs": [],
   "source": [
    "#we want mean=2 and sd=5 to get the eliptical data set of the second column"
   ]
  },
  {
   "cell_type": "code",
   "execution_count": 28,
   "metadata": {},
   "outputs": [
    {
     "data": {
      "text/plain": [
       "(-4.298567181443339, 3.985366237126719, -16.471566352934868, 22.58769318125021)"
      ]
     },
     "execution_count": 28,
     "metadata": {},
     "output_type": "execute_result"
    },
    {
     "data": {
      "image/png": "[encoded data removed]",
      "text/plain": [
       "<Figure size 432x288 with 1 Axes>"
      ]
     },
     "metadata": {
      "needs_background": "light"
     },
     "output_type": "display_data"
    }
   ],
   "source": [
    "ele_dis=np.random.randn(10000,2)\n",
    "ele_dis[:,1]=5*ele_dis[:,1]+2\n",
    "plt.scatter(ele_dis[:,0] ,ele_dis[:,1],color='b')\n",
    "plt.axis('equal')                                           #to make it equal"
   ]
  },
  {
   "cell_type": "code",
   "execution_count": 35,
   "metadata": {},
   "outputs": [
    {
     "data": {
      "image/png": "[encoded data removed]",
      "text/plain": [
       "<Figure size 432x288 with 1 Axes>"
      ]
     },
     "metadata": {
      "needs_background": "light"
     },
     "output_type": "display_data"
    }
   ],
   "source": [
    "import matplotlib.pyplot as plt\n",
    "x = np.arange(-5, 5, 0.1)\n",
    "y = np.arange(-5, 5, 0.1)\n",
    "xx, yy = np.meshgrid(x, y, sparse=True)\n",
    "z = np.sin(xx**2 + yy**2) / (xx**2 + yy**2)\n",
    "h = plt.contourf(x,y,z)\n",
    "plt.show()"
   ]
  },
  {
   "cell_type": "code",
   "execution_count": null,
   "metadata": {},
   "outputs": [],
   "source": []
  }
 ],
 "metadata": {
  "kernelspec": {
   "display_name": "Python 3",
   "language": "python",
   "name": "python3"
  },
  "language_info": {
   "codemirror_mode": {
    "name": "ipython",
    "version": 3
   },
   "file_extension": ".py",
   "mimetype": "text/x-python",
   "name": "python",
   "nbconvert_exporter": "python",
   "pygments_lexer": "ipython3",
   "version": "3.7.0"
  }
 },
 "nbformat": 4,
 "nbformat_minor": 2
}
