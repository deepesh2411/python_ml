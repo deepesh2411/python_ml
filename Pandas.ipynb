{
 "cells": [
  {
   "cell_type": "code",
   "execution_count": 2,
   "metadata": {},
   "outputs": [],
   "source": [
    "import pandas as pd\n",
    "import numpy as np\n",
    "import matplotlib.pyplot as plt\n",
    "%matplotlib inline"
   ]
  },
  {
   "cell_type": "code",
   "execution_count": 3,
   "metadata": {},
   "outputs": [],
   "source": [
    "df=pd.DataFrame({\"day\":[1,2,3,4],\"user\":[200,300,250,275],\"Bounce_rate\":[3,7,2,1]})"
   ]
  },
  {
   "cell_type": "code",
   "execution_count": 4,
   "metadata": {},
   "outputs": [
    {
     "name": "stdout",
     "output_type": "stream",
     "text": [
      "   day  user  Bounce_rate\n",
      "0    1   200            3\n",
      "1    2   300            7\n",
      "2    3   250            2\n",
      "3    4   275            1\n"
     ]
    }
   ],
   "source": [
    "print(df)"
   ]
  },
  {
   "cell_type": "code",
   "execution_count": 5,
   "metadata": {},
   "outputs": [
    {
     "name": "stdout",
     "output_type": "stream",
     "text": [
      "     user  Bounce_rate\n",
      "day                   \n",
      "1     200            3\n",
      "2     300            7\n",
      "3     250            2\n",
      "4     275            1\n"
     ]
    }
   ],
   "source": [
    "\n",
    "df.set_index(\"day\",inplace=True)\n",
    "print(df)"
   ]
  },
  {
   "cell_type": "code",
   "execution_count": 6,
   "metadata": {},
   "outputs": [
    {
     "name": "stdout",
     "output_type": "stream",
     "text": [
      "     user  Bounce_rate\n",
      "day                   \n",
      "1     200            3\n",
      "2     300            7\n",
      "3     250            2\n",
      "4     275            1\n"
     ]
    }
   ],
   "source": [
    "print(df)"
   ]
  },
  {
   "cell_type": "code",
   "execution_count": 7,
   "metadata": {},
   "outputs": [
    {
     "name": "stdout",
     "output_type": "stream",
     "text": [
      "     visiters  Bounce_rate\n",
      "day                       \n",
      "1         200            3\n",
      "2         300            7\n",
      "3         250            2\n",
      "4         275            1\n"
     ]
    }
   ],
   "source": [
    "df=df.rename(columns={\"user\":\"visiters\"})\n",
    "print(df)"
   ]
  },
  {
   "cell_type": "code",
   "execution_count": 10,
   "metadata": {},
   "outputs": [],
   "source": [
    "#concat\n",
    "df1=pd.DataFrame({\"day\":[1,2,3,4],\"user\":[200,300,250,275],\"Bounce_rate\":[3,7,2,1]},index=[9,8,7,6])\n",
    "df2=pd.DataFrame({\"day\":[5,6,7,8],\"user\":[400,300,450,375],\"Bounce_rate\":[2,4,1,3]},index=[5,4,3,2])\n",
    "concat=pd.concat([df1,df2])                                        "
   ]
  },
  {
   "cell_type": "code",
   "execution_count": 11,
   "metadata": {},
   "outputs": [
    {
     "name": "stdout",
     "output_type": "stream",
     "text": [
      "   day  user  Bounce_rate\n",
      "9    1   200            3\n",
      "8    2   300            7\n",
      "7    3   250            2\n",
      "6    4   275            1\n",
      "5    5   400            2\n",
      "4    6   300            4\n",
      "3    7   450            1\n",
      "2    8   375            3\n"
     ]
    }
   ],
   "source": [
    "print(concat)"
   ]
  },
  {
   "cell_type": "code",
   "execution_count": 12,
   "metadata": {},
   "outputs": [
    {
     "name": "stdout",
     "output_type": "stream",
     "text": [
      "4\n"
     ]
    }
   ],
   "source": [
    "from statistics import mean\n",
    "print(mean([1,2,3,4,5,6,7]))"
   ]
  },
  {
   "cell_type": "code",
   "execution_count": null,
   "metadata": {},
   "outputs": [],
   "source": []
  }
 ],
 "metadata": {
  "kernelspec": {
   "display_name": "Python 3",
   "language": "python",
   "name": "python3"
  },
  "language_info": {
   "codemirror_mode": {
    "name": "ipython",
    "version": 3
   },
   "file_extension": ".py",
   "mimetype": "text/x-python",
   "name": "python",
   "nbconvert_exporter": "python",
   "pygments_lexer": "ipython3",
   "version": "3.7.0"
  }
 },
 "nbformat": 4,
 "nbformat_minor": 2
}
